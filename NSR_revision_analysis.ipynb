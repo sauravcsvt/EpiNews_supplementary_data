{
 "cells": [
  {
   "cell_type": "code",
   "execution_count": 27,
   "metadata": {
    "collapsed": true
   },
   "outputs": [],
   "source": [
    "import json\n",
    "import glob\n",
    "import matplotlib.pyplot as plt\n",
    "import pandas as pd"
   ]
  },
  {
   "cell_type": "code",
   "execution_count": 28,
   "metadata": {
    "collapsed": true
   },
   "outputs": [],
   "source": [
    "import matplotlib\n",
    "\n",
    "matplotlib.rcParams['ps.useafm'] = True\n",
    "matplotlib.rcParams['pdf.use14corefonts'] = True\n",
    "matplotlib.rcParams['text.usetex'] = True\n",
    "\n",
    "matplotlib.rcParams['font.family'] = \"Times New Roman\""
   ]
  },
  {
   "cell_type": "code",
   "execution_count": 29,
   "metadata": {
    "collapsed": true
   },
   "outputs": [],
   "source": [
    "%matplotlib inline"
   ]
  },
  {
   "cell_type": "code",
   "execution_count": 62,
   "metadata": {
    "collapsed": true
   },
   "outputs": [],
   "source": [
    "def read_json(input_fl):\n",
    "    output_json = []\n",
    "    input_fl_opn = open(input_fl, \"r\")\n",
    "    for line in input_fl_opn:\n",
    "        output_json.append(json.loads(line, encoding='utf-8'))\n",
    "    input_fl_opn.close()\n",
    "    return output_json\n",
    "def convert_json(input_json):\n",
    "    fields_required = [\"link\", \"lat\", \"lon\", \"date\", \"textual_content\", \"summary\", \"country\"]\n",
    "    hm_json_dump = []\n",
    "    for artl in input_json:\n",
    "        artl_insert = {}\n",
    "        for artl_key in artl:\n",
    "            if artl_key in fields_required:\n",
    "                artl_insert[artl_key] = artl[artl_key]\n",
    "        hm_json_dump.append(artl_insert)\n",
    "    return hm_json_dump"
   ]
  },
  {
   "cell_type": "code",
   "execution_count": 68,
   "metadata": {
    "collapsed": false
   },
   "outputs": [
    {
     "name": "stdout",
     "output_type": "stream",
     "text": [
      "{u'country': u'United States', u'lon': u'-92.504898', u'summary': u'PRO/AH/EDR> E. coli EHEC - USA: (MO) O103, unpasteurized dairy', u'lat': u'38.238098', u'link': u'?id=20130113.1494759', u'date': u'2013-01-13 00:01:11', u'textual_content': u'PRO/AH/EDR> E. coli EHEC - USA: (MO) O103, unpasteurized dairy '}\n"
     ]
    }
   ],
   "source": [
    "HM_json_processed = read_json(\"./data/US/raw_HealthMap/HM_articles_US_2013.json\")\n",
    "HM_json_dump = convert_json(HM_json_processed)\n",
    "print HM_json_dump[0]\n",
    "with open(\"./data/US/HealthMap_corpus/HM_articles_US_2013.json\", \"w\") as f_artl:\n",
    "    for artl in HM_json_dump:\n",
    "        print >> f_artl, json.dumps(artl, encoding='utf-8')"
   ]
  },
  {
   "cell_type": "code",
   "execution_count": null,
   "metadata": {
    "collapsed": true
   },
   "outputs": [],
   "source": []
  }
 ],
 "metadata": {
  "kernelspec": {
   "display_name": "Python 2",
   "language": "python",
   "name": "python2"
  },
  "language_info": {
   "codemirror_mode": {
    "name": "ipython",
    "version": 2
   },
   "file_extension": ".py",
   "mimetype": "text/x-python",
   "name": "python",
   "nbconvert_exporter": "python",
   "pygments_lexer": "ipython2",
   "version": "2.7.3"
  }
 },
 "nbformat": 4,
 "nbformat_minor": 1
}
